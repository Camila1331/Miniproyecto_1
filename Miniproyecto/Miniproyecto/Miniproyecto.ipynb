{
 "cells": [
  {
   "cell_type": "markdown",
   "metadata": {},
   "source": [
    "# Miniproyecto"
   ]
  },
  {
   "cell_type": "markdown",
   "metadata": {},
   "source": [
    "Maria Camila García y Camila Nahuel"
   ]
  },
  {
   "cell_type": "code",
   "execution_count": 1,
   "metadata": {},
   "outputs": [],
   "source": [
    "import nltk\n",
    "from nltk.sem.drt import *\n",
    "from nltk import load_parser\n",
    "from nltk.sem.drt import DrtParser, DrtExpression\n",
    "from nltk import CFG, parse\n",
    "from nltk.grammar import FeatureGrammar\n",
    "from nltk.parse import RecursiveDescentParser, FeatureEarleyChartParser\n",
    "from nltk.parse.generate import generate"
   ]
  },
  {
   "cell_type": "code",
   "execution_count": 2,
   "metadata": {},
   "outputs": [],
   "source": [
    "lp = nltk.sem.logic.LogicParser()\n",
    "dexpr = DrtExpression.fromstring"
   ]
  },
  {
   "cell_type": "code",
   "execution_count": 3,
   "metadata": {},
   "outputs": [
    {
     "name": "stderr",
     "output_type": "stream",
     "text": [
      "[nltk_data] Downloading package punkt to C:\\Users\\Camila\n",
      "[nltk_data]     Garcia\\anaconda3\\lib\\nltk_data...\n",
      "[nltk_data]   Package punkt is already up-to-date!\n"
     ]
    }
   ],
   "source": [
    "import utils\n",
    "from logUtils import existenciales_a_constantes\n",
    "from parseMod import Modelo\n",
    "\n",
    "import resPreg"
   ]
  },
  {
   "cell_type": "markdown",
   "metadata": {},
   "source": [
    "Una vieja tenía un queso. Un ratón se comió el queso. Un gato se comió al ratón. Un perro mató al gato. Un palo le pegó al perro. El fuego quemó al palo. El agua apagó el fuego. Un buey se bebió el agua."
   ]
  },
  {
   "cell_type": "code",
   "execution_count": 4,
   "metadata": {},
   "outputs": [],
   "source": [
    "cp = load_parser('drs.fcfg', logic_parser=DrtParser(), trace=0)\n",
    "dexpr = DrtExpression.fromstring"
   ]
  },
  {
   "cell_type": "code",
   "execution_count": 5,
   "metadata": {},
   "outputs": [
    {
     "name": "stdout",
     "output_type": "stream",
     "text": [
      "\n",
      "Esta es la primera oración:\n",
      "\n",
      "\tUna vieja tenía un queso\n",
      "\n",
      "La cual se representa como:\n",
      " _______________ \n",
      "| e x z5        |\n",
      "|---------------|\n",
      "| FEME(x)       |\n",
      "| VIEJA(x)      |\n",
      "| MASC(z5)      |\n",
      "| QUESO(z5)     |\n",
      "| TENER(e)      |\n",
      "| SUJETO(e,x)   |\n",
      "| OBJ_DIR(e,z5) |\n",
      "|_______________|\n",
      "\n",
      "Esta es la segunda oración:\n",
      "\n",
      "\tUn ratón se comió el queso\n",
      "\n",
      "La cual se representa como:\n",
      " _________________________________ \n",
      "| e x z10                         |\n",
      "|---------------------------------|\n",
      "| MASC(x)                         |\n",
      "| RATON(x)                        |\n",
      "| MASC(z10)                       |\n",
      "| QUESO(z10)                      |\n",
      "|   __________      ___________   |\n",
      "|  | y        |    |           |  |\n",
      "| (|----------| -> |-----------|) |\n",
      "|  | QUESO(y) |    | (y = z10) |  |\n",
      "|  |__________|    |___________|  |\n",
      "| COMER(e)                        |\n",
      "| SUJETO(e,x)                     |\n",
      "| OBJ_DIR(e,z10)                  |\n",
      "|_________________________________|\n",
      "\n",
      "Las DRSs se contactenan\n",
      "  _______________     _________________________________  \n",
      " | e x z5        |   | e x z10                         | \n",
      "(|---------------| + |---------------------------------|)\n",
      " | FEME(x)       |   | MASC(x)                         | \n",
      " | VIEJA(x)      |   | RATON(x)                        | \n",
      " | MASC(z5)      |   | MASC(z10)                       | \n",
      " | QUESO(z5)     |   | QUESO(z10)                      | \n",
      " | TENER(e)      |   |   __________      ___________   | \n",
      " | SUJETO(e,x)   |   |  | y        |    |           |  | \n",
      " | OBJ_DIR(e,z5) |   | (|----------| -> |-----------|) | \n",
      " |_______________|   |  | QUESO(y) |    | (y = z10) |  | \n",
      "                     |  |__________|    |___________|  | \n",
      "                     | COMER(e)                        | \n",
      "                     | SUJETO(e,x)                     | \n",
      "                     | OBJ_DIR(e,z10)                  | \n",
      "                     |_________________________________| \n",
      "\n",
      "Obteniendo:\n",
      " _________________________________ \n",
      "| e e012 x z5 z10 z11             |\n",
      "|---------------------------------|\n",
      "| FEME(x)                         |\n",
      "| VIEJA(x)                        |\n",
      "| MASC(z5)                        |\n",
      "| QUESO(z5)                       |\n",
      "| TENER(e)                        |\n",
      "| SUJETO(e,x)                     |\n",
      "| OBJ_DIR(e,z5)                   |\n",
      "| MASC(z11)                       |\n",
      "| RATON(z11)                      |\n",
      "| MASC(z10)                       |\n",
      "| QUESO(z10)                      |\n",
      "|   __________      ___________   |\n",
      "|  | y        |    |           |  |\n",
      "| (|----------| -> |-----------|) |\n",
      "|  | QUESO(y) |    | (y = z10) |  |\n",
      "|  |__________|    |___________|  |\n",
      "| COMER(e012)                     |\n",
      "| SUJETO(e012,z11)                |\n",
      "| OBJ_DIR(e012,z10)               |\n",
      "|_________________________________|\n"
     ]
    }
   ],
   "source": [
    "# Escribimos la oración en español\n",
    "oracion = 'Una vieja tenía un queso'.split()\n",
    "print(f'\\nEsta es la primera oración:\\n\\n\\t{\" \".join(oracion)}\\n')\n",
    "# Hacemos el parsing\n",
    "drs1 = utils.obtener_formula(oracion, cp)\n",
    "print('La cual se representa como:')\n",
    "drs1.pretty_print()\n",
    "\n",
    "# Escribimos la segunda oración\n",
    "oracion = 'Un ratón se comió el queso'.split()\n",
    "print(f'\\nEsta es la segunda oración:\\n\\n\\t{\" \".join(oracion)}\\n')\n",
    "# Hacemos el parsing\n",
    "drs2 = utils.obtener_formula(oracion, cp)\n",
    "print('La cual se representa como:')\n",
    "drs2.pretty_print()\n",
    "\n",
    "# Combinamos ambas representaciones\n",
    "print('\\nLas DRSs se contactenan')\n",
    "drs3 = (drs1 + drs2)\n",
    "drs3.pretty_print()\n",
    "drs3 = drs3.simplify()\n",
    "print('\\nObteniendo:')\n",
    "drs3.pretty_print()"
   ]
  },
  {
   "cell_type": "code",
   "execution_count": 6,
   "metadata": {},
   "outputs": [],
   "source": [
    "text_data= {\"id\":\"texto1\", \\\n",
    "            \"texto\":\"Una vieja tenía un queso. Un ratón se comió el queso. Un gato se comió al ratón. Un perro mató al gato. Un palo le pegó al perro. El fuego quemó al palo. El agua apagó el fuego. Un buey se bebió el agua.\", \\\n",
    "            \"preguntas\":[\"¿Qué tenía la vieja?\", \"¿Quién se comió el queso?\", \"¿Quién quemó al palo?\"], \\\n",
    "            \"respuestas\":[[\"un queso\", \"queso\"], [\"el ratón\", \"un ratón\", \"ratón\", \"raton\"], [\"el fuego\", \"fuego\"]]}"
   ]
  },
  {
   "cell_type": "code",
   "execution_count": 7,
   "metadata": {},
   "outputs": [
    {
     "name": "stdout",
     "output_type": "stream",
     "text": [
      "Verificando drs.fcfg como gramática para el texto...\n",
      "Gramática sin errores.\n",
      "Continuamos con el procesamiento del texto...\n",
      "Verificando preguntas_texto1.fcfg como gramática para preguntas...\n",
      "Intentamos resolver las preguntas...\n",
      "La respuesta a la pregunta ¿Qué tenía la vieja? es None\n",
      "\t=> Respuesta incorrecta\n",
      "La respuesta a la pregunta ¿Quién se comió el queso? es raton\n",
      "\t=> Respuesta correcta\n",
      "La respuesta a la pregunta ¿Quién quemó al palo? es fuego\n",
      "\t=> Respuesta correcta\n",
      "Porcentaje de aciertos: 66.66666666666666\n"
     ]
    }
   ],
   "source": [
    "resPreg.procesamiento(text_data=text_data, \n",
    "                      gramatica_texto='drs.fcfg', \n",
    "                      gramatica_preguntas='preguntas_texto1.fcfg',\n",
    "                      verbose=False)"
   ]
  },
  {
   "cell_type": "code",
   "execution_count": null,
   "metadata": {},
   "outputs": [],
   "source": []
  },
  {
   "cell_type": "code",
   "execution_count": null,
   "metadata": {},
   "outputs": [],
   "source": []
  }
 ],
 "metadata": {
  "kernelspec": {
   "display_name": "Python 3 (ipykernel)",
   "language": "python",
   "name": "python3"
  },
  "language_info": {
   "codemirror_mode": {
    "name": "ipython",
    "version": 3
   },
   "file_extension": ".py",
   "mimetype": "text/x-python",
   "name": "python",
   "nbconvert_exporter": "python",
   "pygments_lexer": "ipython3",
   "version": "3.9.13"
  }
 },
 "nbformat": 4,
 "nbformat_minor": 4
}
